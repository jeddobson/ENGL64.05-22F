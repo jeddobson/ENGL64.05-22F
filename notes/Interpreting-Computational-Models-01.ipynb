{
 "cells": [
  {
   "cell_type": "markdown",
   "metadata": {},
   "source": [
    "<center><h1>Interpreting Computational Models for the Humanities</h1></center>\n",
    "<center><h2>Examining Contribution to Distance Metrics</h2></center>\n",
    "\n",
    "\n",
    "This notebook uses Cosine similarities to produce a distance matrix using a maximum number of tokens to determine the contribution of words to the model. \n",
    "\n",
    "12/06/2018: <a href=\"http://www.dartmouth.edu/~jed\">James E. Dobson</a> (james.e.dobson@dartmouth.edu): Created initial notebook."
   ]
  },
  {
   "cell_type": "code",
   "execution_count": 1,
   "metadata": {
    "collapsed": false
   },
   "outputs": [],
   "source": [
    "import sklearn\n",
    "import numpy as np\n",
    "\n",
    "from sklearn.feature_extraction.text import CountVectorizer\n",
    "from sklearn.metrics.pairwise import cosine_similarity\n",
    "from sklearn.metrics import euclidean_distances\n",
    "\n",
    "from operator import itemgetter"
   ]
  },
  {
   "cell_type": "code",
   "execution_count": 2,
   "metadata": {
    "collapsed": true
   },
   "outputs": [],
   "source": [
    "# Input dataset was created from the ten chapters plus appendix \n",
    "# of Frederick Douglass's Narrative of the Life of Frederick Douglass (1845)\n",
    "texts=[\"Douglass/01\",\n",
    "       \"Douglass/02\",\n",
    "       \"Douglass/03\",\n",
    "       \"Douglass/04\",\n",
    "       \"Douglass/05\",\n",
    "       \"Douglass/06\",\n",
    "       \"Douglass/07\",\n",
    "       \"Douglass/08\", \n",
    "       \"Douglass/09\", \n",
    "       \"Douglass/10\", \n",
    "       \"Douglass/11\"]"
   ]
  },
  {
   "cell_type": "code",
   "execution_count": 3,
   "metadata": {
    "collapsed": false
   },
   "outputs": [
    {
     "name": "stdout",
     "output_type": "stream",
     "text": [
      "Documents: 11 Vocabulary: 3996\n"
     ]
    }
   ],
   "source": [
    "# vectorize using Scikit Learn\n",
    "vectorizer = CountVectorizer(input='filename', \n",
    "                             stop_words='english',\n",
    "                             strip_accents='unicode',\n",
    "                             lowercase=True)\n",
    "# fit texts to model\n",
    "dtm_matrix = vectorizer.fit_transform(texts)\n",
    "\n",
    "# convert from sparse object to numpy array\n",
    "dtm_matrix = dtm_matrix.toarray()\n",
    "\n",
    "# tell us about the model\n",
    "documents, vocabulary = dtm_matrix.shape\n",
    "print(\"Documents: {0} Vocabulary: {1}\".format(documents,vocabulary))"
   ]
  },
  {
   "cell_type": "code",
   "execution_count": 4,
   "metadata": {
    "collapsed": false
   },
   "outputs": [
    {
     "name": "stdout",
     "output_type": "stream",
     "text": [
      "Douglass/01 (0.0)\n",
      "Douglass/06 (44.7102)\n",
      "Douglass/08 (48.0208)\n",
      "Douglass/05 (48.1975)\n",
      "Douglass/09 (49.1528)\n",
      "Douglass/03 (50.5569)\n",
      "Douglass/02 (53.2071)\n",
      "Douglass/04 (53.5724)\n",
      "Douglass/07 (55.2268)\n",
      "Douglass/11 (90.6035)\n",
      "Douglass/10 (194.7177)\n"
     ]
    }
   ],
   "source": [
    "# calculate distance between texts using cosine_similarity\n",
    "#dist_matrix = 1 - cosine_similarity(dtm_matrix)\n",
    "dist_matrix = euclidean_distances(dtm_matrix)\n",
    "\n",
    "# display distance from the first text\n",
    "for x, y in sorted(enumerate(np.round(dist_matrix[0],4)), key=itemgetter(1)):\n",
    "    print('{0} ({1})'.format(texts[x],y))"
   ]
  },
  {
   "cell_type": "code",
   "execution_count": 5,
   "metadata": {
    "collapsed": false
   },
   "outputs": [
    {
     "data": {
      "text/plain": [
       "<seaborn.matrix.ClusterGrid at 0x1029eeef0>"
      ]
     },
     "execution_count": 5,
     "metadata": {},
     "output_type": "execute_result"
    },
    {
     "data": {
      "image/png": "[encoded data removed]",
      "text/plain": [
       "<matplotlib.figure.Figure at 0x104e532b0>"
      ]
     },
     "metadata": {},
     "output_type": "display_data"
    }
   ],
   "source": [
    "# display the similarity matrix (white=similar, dark blue=different)\n",
    "import seaborn as sn\n",
    "%matplotlib inline\n",
    "sn.clustermap(dist_matrix,cmap='Blues',fmt='g',linewidths=.5)"
   ]
  },
  {
   "cell_type": "code",
   "execution_count": 6,
   "metadata": {
    "collapsed": false,
    "scrolled": false
   },
   "outputs": [
    {
     "name": "stdout",
     "output_type": "stream",
     "text": [
      "mr 1722.25\n",
      "covey 1024.0\n",
      "time 361.0\n",
      "did 210.25\n",
      "master 210.25\n",
      "slave 210.25\n",
      "man 169.0\n",
      "said 132.25\n",
      "went 132.25\n",
      "work 132.25\n",
      "henry 121.0\n",
      "came 110.25\n",
      "gave 110.25\n",
      "hands 110.25\n",
      "come 100.0\n",
      "year 90.25\n",
      "free 81.0\n",
      "slaves 81.0\n",
      "told 81.0\n",
      "long 72.25\n",
      "day 64.0\n",
      "freeland 64.0\n",
      "hand 64.0\n",
      "home 64.0\n",
      "just 64.0\n",
      "way 64.0\n",
      "white 64.0\n",
      "freedom 56.25\n",
      "getting 56.25\n",
      "like 56.25\n",
      "morning 56.25\n",
      "slavery 56.25\n",
      "think 56.25\n",
      "woods 56.25\n",
      "death 49.0\n",
      "large 49.0\n",
      "got 42.25\n",
      "night 42.25\n",
      "blood 36.0\n",
      "half 36.0\n",
      "left 36.0\n",
      "life 36.0\n",
      "little 36.0\n",
      "make 36.0\n",
      "succeeded 36.0\n",
      "away 30.25\n",
      "gardner 30.25\n",
      "hold 30.25\n",
      "john 30.25\n",
      "michael 30.25\n"
     ]
    }
   ],
   "source": [
    "# sort and display top fifty most variant words by \n",
    "# comparing just rows 5 and 9 (chapters 6 & 10) as the far ends of the above \n",
    "\n",
    "variance_table=dict()\n",
    "for t,y in enumerate(np.var(np.array([dtm_matrix[5,...],dtm_matrix[9,...]]), axis=0)):\n",
    "    variance_table[t] = y\n",
    "    \n",
    "for k,v in sorted(variance_table.items(), key=itemgetter(1), reverse=True)[:50]:\n",
    "    print(vectorizer.get_feature_names()[k],v)"
   ]
  },
  {
   "cell_type": "code",
   "execution_count": 7,
   "metadata": {
    "collapsed": false
   },
   "outputs": [
    {
     "name": "stdout",
     "output_type": "stream",
     "text": [
      "mr 1282.94214876\n",
      "covey 833.109504132\n",
      "time 250.214876033\n",
      "slave 216.892561983\n",
      "did 155.115702479\n",
      "master 126.051652893\n",
      "said 113.132231405\n",
      "man 109.297520661\n",
      "henry 100.0\n",
      "gave 94.6198347107\n",
      "work 94.6198347107\n",
      "went 93.7376033058\n",
      "hands 85.1425619835\n",
      "come 73.8037190083\n",
      "came 73.0247933884\n",
      "year 69.1921487603\n",
      "free 60.4152892562\n",
      "white 60.4152892562\n",
      "just 59.7107438017\n",
      "told 57.6219008264\n",
      "freeland 52.8925619835\n",
      "long 52.2334710744\n",
      "hand 48.3657024793\n",
      "day 47.1095041322\n",
      "freedom 45.8698347107\n",
      "way 44.6466942149\n",
      "woods 44.6466942149\n",
      "getting 41.6611570248\n",
      "morning 41.6611570248\n",
      "think 41.076446281\n",
      "slaves 39.9194214876\n",
      "large 39.347107438\n",
      "home 37.6549586777\n",
      "like 36.5475206612\n",
      "slavery 34.9173553719\n",
      "blood 31.7685950413\n",
      "death 31.7685950413\n",
      "half 30.7520661157\n",
      "got 29.2582644628\n",
      "night 28.7685950413\n",
      "succeeded 25.9173553719\n",
      "whipped 25.0\n",
      "gardner 24.5475206612\n",
      "john 24.5475206612\n",
      "left 22.347107438\n",
      "make 22.347107438\n",
      "eat 21.076446281\n",
      "head 21.076446281\n",
      "fred 20.6611570248\n",
      "michael 20.6611570248\n"
     ]
    }
   ],
   "source": [
    "# sort and display top fifty most variant words by \n",
    "# comparing chapter 10 (row 9) to the mean \n",
    "\n",
    "mean_rows = np.mean(dtm_matrix,axis=0)\n",
    "\n",
    "variance_table=dict()\n",
    "for t,y in enumerate(np.var(np.array([mean_rows,dtm_matrix[9,...]]), axis=0)):\n",
    "    variance_table[t] = y\n",
    "    \n",
    "for k,v in sorted(variance_table.items(), key=itemgetter(1), reverse=True)[:50]:\n",
    "    print(vectorizer.get_feature_names()[k],v)"
   ]
  },
  {
   "cell_type": "code",
   "execution_count": 8,
   "metadata": {
    "collapsed": false
   },
   "outputs": [],
   "source": [
    "# now calculate based on standard deviation of the mean value for each token\n",
    "mean_rows = np.mean(dtm_matrix,axis=0)\n",
    "std_dev = np.std([mean_rows,dtm_matrix[9,...]],axis=0)"
   ]
  },
  {
   "cell_type": "code",
   "execution_count": 9,
   "metadata": {
    "collapsed": false
   },
   "outputs": [
    {
     "name": "stdout",
     "output_type": "stream",
     "text": [
      "mr 35.8181818182\n",
      "covey 28.8636363636\n",
      "time 15.8181818182\n",
      "slave 14.7272727273\n",
      "did 12.4545454545\n",
      "master 11.2272727273\n",
      "said 10.6363636364\n",
      "man 10.4545454545\n",
      "henry 10.0\n",
      "gave 9.72727272727\n",
      "work 9.72727272727\n",
      "went 9.68181818182\n",
      "hands 9.22727272727\n",
      "come 8.59090909091\n",
      "came 8.54545454545\n",
      "year 8.31818181818\n",
      "free 7.77272727273\n",
      "white 7.77272727273\n",
      "just 7.72727272727\n",
      "told 7.59090909091\n",
      "freeland 7.27272727273\n",
      "long 7.22727272727\n",
      "hand 6.95454545455\n",
      "day 6.86363636364\n",
      "freedom 6.77272727273\n",
      "way 6.68181818182\n",
      "woods 6.68181818182\n",
      "getting 6.45454545455\n",
      "morning 6.45454545455\n",
      "think 6.40909090909\n",
      "slaves 6.31818181818\n",
      "large 6.27272727273\n",
      "home 6.13636363636\n",
      "like 6.04545454545\n",
      "slavery 5.90909090909\n",
      "blood 5.63636363636\n",
      "death 5.63636363636\n",
      "half 5.54545454545\n",
      "got 5.40909090909\n",
      "night 5.36363636364\n",
      "succeeded 5.09090909091\n",
      "whipped 5.0\n",
      "gardner 4.95454545455\n",
      "john 4.95454545455\n",
      "left 4.72727272727\n",
      "make 4.72727272727\n",
      "eat 4.59090909091\n",
      "head 4.59090909091\n",
      "fred 4.54545454545\n",
      "michael 4.54545454545\n"
     ]
    }
   ],
   "source": [
    "# now determine which words contribute to distance \n",
    "# via standard deviation from the mean value of each token\n",
    "mean_rows = np.mean(dtm_matrix,axis=0)\n",
    "std_dev = np.std([mean_rows,dtm_matrix[9,...]],axis=0)\n",
    "\n",
    "std_dev_table=dict()\n",
    "for t,y in enumerate(np.std([mean_rows,dtm_matrix[9,...]],axis=0)):\n",
    "    std_dev_table[t] = y\n",
    "    \n",
    "# sort and display top fifty most deviant words\n",
    "for k,v in sorted(std_dev_table.items(), key=itemgetter(1), reverse=True)[:50]:\n",
    "    print(vectorizer.get_feature_names()[k],v)"
   ]
  }
 ],
 "metadata": {
  "kernelspec": {
   "display_name": "Python 3",
   "language": "python",
   "name": "python3"
  },
  "language_info": {
   "codemirror_mode": {
    "name": "ipython",
    "version": 3
   },
   "file_extension": ".py",
   "mimetype": "text/x-python",
   "name": "python",
   "nbconvert_exporter": "python",
   "pygments_lexer": "ipython3",
   "version": "3.5.5"
  }
 },
 "nbformat": 4,
 "nbformat_minor": 2
}
