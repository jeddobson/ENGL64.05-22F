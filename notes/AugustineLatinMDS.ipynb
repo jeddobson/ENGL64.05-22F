{
 "cells": [
  {
   "cell_type": "markdown",
   "metadata": {},
   "source": [
    "# Calculate Distance Between Chapters of Augustine's _Confessions_\n",
    "\n",
    "This notebook adapts the workflow used by Andrew Piper in _Enumerations: Data and Literary Study_ (Chicago, 2018) for Python and Scikit-learn. It uses NLTK to preprocess the input files and cuts the input dataset down to 479 tokens, scales the values based complete token length, calculates Euclidean distances, and represents in two-dimensional space using MDS."
   ]
  },
  {
   "cell_type": "code",
   "execution_count": 1,
   "metadata": {
    "collapsed": true
   },
   "outputs": [],
   "source": [
    "import nltk\n",
    "import sklearn\n",
    "import numpy as np\n",
    "from sklearn.feature_extraction.text import CountVectorizer\n",
    "from sklearn.metrics import euclidean_distances"
   ]
  },
  {
   "cell_type": "code",
   "execution_count": 2,
   "metadata": {
    "collapsed": true
   },
   "outputs": [],
   "source": [
    "latin_stopwords = [\"a\", \"ab\", \"ac\", \"ad\", \"adhic \", \"aliqui\", \"aliquis\", \n",
    "           \"an\", \"ante\", \"apud\", \"at\", \"atque\", \"aut\", \"autem\", \n",
    "           \"cum\", \"cur\", \"de\", \"deinde\", \"dum\", \"ego\", \"enim\", \n",
    "           \"ergo\", \"es\", \"est\", \"et\", \"etiam\", \"etsi\", \"ex\", \n",
    "           \"fio\", \"haud\", \"hic\", \"iam\", \"idem\", \"igitur\", \"ille\", \n",
    "           \"in\", \"infra\", \"inter\", \"interim\", \"ipse\", \"is\", \"ita\",\n",
    "           \"magis\", \"modo\", \"mox\", \"nam\", \"ne\", \"nec\", \"necque\", \n",
    "           \"neque\", \"nisi\", \"non\", \"nos\", \"o\", \"ob\", \"per\", \"possum\", \n",
    "           \"post\", \"pro\", \"quae\", \"quam\", \"quare\", \"qui\", \"quia\", \n",
    "           \"quicumque\", \"quidem\", \"quilibet\", \"quis\", \"quisnam\", \n",
    "           \"quisquam\", \"quisque\", \"quisquis\", \"quo\", \"quoniam\", \n",
    "           \"sed\", \"si\", \"sic\", \"sive\", \"sub\", \"sui\", \"sum\", \n",
    "           \"super\", \"suus\", \"tam\", \"tamen\", \"trans\", \"tu\", \n",
    "           \"tum\", \"ubi\", \"uel\", \"uero\"]"
   ]
  },
  {
   "cell_type": "code",
   "execution_count": 3,
   "metadata": {
    "collapsed": true
   },
   "outputs": [],
   "source": [
    "def remove_digits(input_document):\n",
    "\n",
    "    # CountVectorizer operates on entire document\n",
    "    tokens = nltk.word_tokenize(input_document)\n",
    "    tmp_text=list()\n",
    "\n",
    "    # for each word\n",
    "    for word in tokens:\n",
    "        \n",
    "        # drop to lowercase\n",
    "        word = word.lower()\n",
    "        # takes care of one character non-alpha words\n",
    "        if len(word) == 1 :\n",
    "            if word.isalpha() == True:\n",
    "                tmp_text.append(word)\n",
    "        else:\n",
    "            # else append only if not a digit\n",
    "            # check for periods and commas\n",
    "            word = word.replace('.','')\n",
    "            word = word.replace(',','')\n",
    "            if word.isdigit() == False:\n",
    "                tmp_text.append(word)\n",
    "                \n",
    "    output_object = ' '.join(tmp_text)\n",
    "    return output_object"
   ]
  },
  {
   "cell_type": "code",
   "execution_count": 4,
   "metadata": {
    "collapsed": false
   },
   "outputs": [],
   "source": [
    "texts=[\"AugustineLatinChapter/1\",\n",
    "       \"AugustineLatinChapter/2\",\n",
    "       \"AugustineLatinChapter/3\",\n",
    "       \"AugustineLatinChapter/4\",\n",
    "       \"AugustineLatinChapter/5\",\n",
    "       \"AugustineLatinChapter/6\",\n",
    "       \"AugustineLatinChapter/7\",\n",
    "       \"AugustineLatinChapter/8\", \n",
    "       \"AugustineLatinChapter/9\", \n",
    "       \"AugustineLatinChapter/10\", \n",
    "       \"AugustineLatinChapter/11\", \n",
    "       \"AugustineLatinChapter/12\",\n",
    "       \"AugustineLatinChapter/13\"]\n",
    "\n",
    "\n",
    "# first obtain total token with all the stopwords.\n",
    "# we are doing this in order to scale the token counts\n",
    "vectorizer_totals = CountVectorizer(input='filename',\n",
    "                                    preprocessor=remove_digits,\n",
    "                                    strip_accents='unicode',lowercase=True)\n",
    "dtm_total_matrix = vectorizer_totals.fit_transform(texts)\n",
    "\n",
    "\n",
    "# Piper used sparsity of .4  = 60% of documents\n",
    "df_factor = int(np.round((len(texts)*.6),0))\n",
    "\n",
    "# Note that a custom processor will override lowercase removal\n",
    "# we need a custom preprocess for CountVectorizer because we need \n",
    "# to remove the digits/numbers (stop_words functions as expected)\n",
    "vectorizer = CountVectorizer(input='filename',\n",
    "                             stop_words=latin_stopwords,\n",
    "                             strip_accents='unicode',lowercase=True,\n",
    "                             preprocessor=remove_digits,\n",
    "                             min_df=df_factor)\n",
    "\n",
    "dtm_matrix = vectorizer.fit_transform(texts).toarray()"
   ]
  },
  {
   "cell_type": "code",
   "execution_count": 5,
   "metadata": {
    "collapsed": false
   },
   "outputs": [],
   "source": [
    "# now scale the values\n",
    "scaling = np.sum(dtm_total_matrix,axis=1)\n",
    "dtm_matrix = dtm_matrix / scaling"
   ]
  },
  {
   "cell_type": "code",
   "execution_count": 6,
   "metadata": {
    "collapsed": false
   },
   "outputs": [
    {
     "name": "stdout",
     "output_type": "stream",
     "text": [
      "Documents: 13\n",
      "Vocabulary: 479\n"
     ]
    }
   ],
   "source": [
    "# tell us about the model\n",
    "documents, vocabulary = dtm_matrix.shape\n",
    "print(\"Documents:\",documents)\n",
    "print(\"Vocabulary:\",vocabulary)"
   ]
  },
  {
   "cell_type": "code",
   "execution_count": 7,
   "metadata": {
    "collapsed": true
   },
   "outputs": [],
   "source": [
    "# calculate Euclidean distances between each text\n",
    "dist_matrix = euclidean_distances(dtm_matrix)"
   ]
  },
  {
   "cell_type": "code",
   "execution_count": 8,
   "metadata": {
    "collapsed": false,
    "scrolled": true
   },
   "outputs": [
    {
     "name": "stdout",
     "output_type": "stream",
     "text": [
      "0.000 AugustineLatinChapter/1\n",
      "0.017 AugustineLatinChapter/4\n",
      "0.018 AugustineLatinChapter/2\n",
      "0.018 AugustineLatinChapter/5\n",
      "0.018 AugustineLatinChapter/10\n",
      "0.020 AugustineLatinChapter/8\n",
      "0.020 AugustineLatinChapter/9\n",
      "0.021 AugustineLatinChapter/3\n",
      "0.023 AugustineLatinChapter/6\n",
      "0.023 AugustineLatinChapter/7\n",
      "0.024 AugustineLatinChapter/13\n",
      "0.028 AugustineLatinChapter/12\n",
      "0.029 AugustineLatinChapter/11\n"
     ]
    }
   ],
   "source": [
    "# display distance from the first text\n",
    "from operator import itemgetter\n",
    "for x,y in sorted(enumerate(np.round(dist_matrix[0],3)), key=itemgetter(1)):\n",
    "    print(\"{0:.3f} {1}\".format(y, texts[x]))"
   ]
  },
  {
   "cell_type": "code",
   "execution_count": 9,
   "metadata": {
    "collapsed": true
   },
   "outputs": [],
   "source": [
    "# reduce using MDS (n_components=2 is the default--we want just two dimensions)\n",
    "from sklearn.manifold import MDS\n",
    "mds = MDS(n_components=2, dissimilarity=\"precomputed\", random_state=1)\n",
    "pos = mds.fit_transform(dist_matrix)"
   ]
  },
  {
   "cell_type": "code",
   "execution_count": 10,
   "metadata": {
    "collapsed": false
   },
   "outputs": [
    {
     "data": {
      "image/png": "[encoded data removed]",
      "text/plain": [
       "<matplotlib.figure.Figure at 0x1083f6a20>"
      ]
     },
     "metadata": {},
     "output_type": "display_data"
    }
   ],
   "source": [
    "# plot!\n",
    "import matplotlib.pyplot as plt\n",
    "xs, ys = pos[:, 0], pos[:, 1]\n",
    "fig = plt.figure(figsize=(15, 10),)\n",
    "\n",
    "for x, y, text in zip(xs, ys, texts):\n",
    "    plt.scatter(x, y, c='black',s=10)\n",
    "    plt.text(x, y, text)\n",
    "plt.show()"
   ]
  }
 ],
 "metadata": {
  "kernelspec": {
   "display_name": "Python 3",
   "language": "python",
   "name": "python3"
  },
  "language_info": {
   "codemirror_mode": {
    "name": "ipython",
    "version": 3
   },
   "file_extension": ".py",
   "mimetype": "text/x-python",
   "name": "python",
   "nbconvert_exporter": "python",
   "pygments_lexer": "ipython3",
   "version": "3.5.5"
  }
 },
 "nbformat": 4,
 "nbformat_minor": 2
}
