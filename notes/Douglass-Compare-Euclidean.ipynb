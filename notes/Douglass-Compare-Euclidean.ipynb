{
 "cells": [
  {
   "cell_type": "markdown",
   "metadata": {},
   "source": [
    "## How much does the minimum document frequency or \"sparsity\" influence document similarity? \n",
    "\n",
    "This notebook does the following using the ten chapters plus appendix of Frederick Douglass's _Narrative of the Life of Frederick Douglass_ (1845):\n",
    "    - compares similarity scores using different minimum document frequency (df) values\n",
    "    - compare cosine similarity scores with the Euclidean distance metric\n",
    "    - uses MDS to show (dis)similarity between chapters\n",
    "    - visualizes the matrix\n",
    "    - clusters together using Seaborn\n",
    "    - calcuates variance between selected chapters and displays top fifty most variant terms\n",
    "\n",
    "<b>Revisions</b>:\n",
    "<pre>\n",
    "12/05/2018: <a href=\"http://www.dartmouth.edu/~jed\">James E. Dobson</a> (james.e.dobson@dartmouth.edu): Created initial notebook.\n",
    "12/06/2018: Added Cosine Similarity Comparison\n",
    "</pre>"
   ]
  },
  {
   "cell_type": "code",
   "execution_count": 1,
   "metadata": {
    "collapsed": true
   },
   "outputs": [],
   "source": [
    "import sklearn\n",
    "import numpy as np\n",
    "from sklearn.feature_extraction.text import CountVectorizer\n",
    "\n",
    "from sklearn.metrics import euclidean_distances\n",
    "from sklearn.metrics.pairwise import cosine_similarity\n",
    "\n",
    "from operator import itemgetter\n",
    "import nltk\n",
    "import pandas\n",
    "\n",
    "import seaborn as sn\n",
    "sn.set(style=\"white\")\n",
    "%matplotlib inline"
   ]
  },
  {
   "cell_type": "code",
   "execution_count": 2,
   "metadata": {
    "collapsed": true
   },
   "outputs": [],
   "source": [
    "texts=[\"Douglass/01\",\n",
    "       \"Douglass/02\",\n",
    "       \"Douglass/03\",\n",
    "       \"Douglass/04\",\n",
    "       \"Douglass/05\",\n",
    "       \"Douglass/06\",\n",
    "       \"Douglass/07\",\n",
    "       \"Douglass/08\", \n",
    "       \"Douglass/09\", \n",
    "       \"Douglass/10\", \n",
    "       \"Douglass/11\"]"
   ]
  },
  {
   "cell_type": "code",
   "execution_count": 3,
   "metadata": {
    "collapsed": false
   },
   "outputs": [
    {
     "name": "stdout",
     "output_type": "stream",
     "text": [
      "DF: 1 Documents: 11 Vocabulary: 3996\n",
      "DF: 2 Documents: 11 Vocabulary: 1527\n",
      "DF: 3 Documents: 11 Vocabulary: 805\n",
      "DF: 4 Documents: 11 Vocabulary: 463\n",
      "DF: 5 Documents: 11 Vocabulary: 287\n",
      "DF: 6 Documents: 11 Vocabulary: 183\n",
      "DF: 7 Documents: 11 Vocabulary: 114\n",
      "DF: 8 Documents: 11 Vocabulary: 68\n",
      "DF: 9 Documents: 11 Vocabulary: 38\n",
      "DF: 10 Documents: 11 Vocabulary: 20\n",
      "DF: 11 Documents: 11 Vocabulary: 9\n"
     ]
    }
   ],
   "source": [
    "similarity_chart=list()\n",
    "\n",
    "# check minimum for minimum document frequencies from 1-13\n",
    "for df_factor in range(1,12):\n",
    "    vectorizer = CountVectorizer(input='filename', stop_words='english',\n",
    "                             strip_accents='unicode',lowercase=True,\n",
    "                             min_df=df_factor)\n",
    "    dtm_matrix = vectorizer.fit_transform(texts).toarray()\n",
    "    \n",
    "    # tell us about the model\n",
    "    documents, vocabulary = dtm_matrix.shape\n",
    "    print(\"DF: {0} Documents: {1} Vocabulary: {2}\".format(df_factor,documents,vocabulary))\n",
    "\n",
    "    # calculate distances between texts\n",
    "    dist_matrix = euclidean_distances(dtm_matrix)\n",
    "    \n",
    "    row = [df_factor]\n",
    "    \n",
    "    #display distance from the first text\n",
    "    for x,y in sorted(enumerate(np.round(dist_matrix[0],3)), key=itemgetter(1)):\n",
    "        b,d,c = texts[x].partition('/')\n",
    "        v = '{0} ({1:.1f})'.format(c,y)\n",
    "        row.append(v)\n",
    "    similarity_chart.append(row)    "
   ]
  },
  {
   "cell_type": "code",
   "execution_count": 4,
   "metadata": {
    "collapsed": false
   },
   "outputs": [
    {
     "data": {
      "text/html": [
       "<div>\n",
       "<style>\n",
       "    .dataframe thead tr:only-child th {\n",
       "        text-align: right;\n",
       "    }\n",
       "\n",
       "    .dataframe thead th {\n",
       "        text-align: left;\n",
       "    }\n",
       "\n",
       "    .dataframe tbody tr th {\n",
       "        vertical-align: top;\n",
       "    }\n",
       "</style>\n",
       "<table border=\"1\" class=\"dataframe\">\n",
       "  <thead>\n",
       "    <tr style=\"text-align: right;\">\n",
       "      <th></th>\n",
       "      <th>0</th>\n",
       "      <th>1</th>\n",
       "      <th>2</th>\n",
       "      <th>3</th>\n",
       "      <th>4</th>\n",
       "      <th>5</th>\n",
       "      <th>6</th>\n",
       "      <th>7</th>\n",
       "      <th>8</th>\n",
       "      <th>9</th>\n",
       "      <th>10</th>\n",
       "      <th>11</th>\n",
       "    </tr>\n",
       "  </thead>\n",
       "  <tbody>\n",
       "    <tr>\n",
       "      <th>0</th>\n",
       "      <td>1</td>\n",
       "      <td>01 (0.0)</td>\n",
       "      <td>06 (44.7)</td>\n",
       "      <td>08 (48.0)</td>\n",
       "      <td>05 (48.2)</td>\n",
       "      <td>09 (49.2)</td>\n",
       "      <td>03 (50.6)</td>\n",
       "      <td>02 (53.2)</td>\n",
       "      <td>04 (53.6)</td>\n",
       "      <td>07 (55.2)</td>\n",
       "      <td>11 (90.6)</td>\n",
       "      <td>10 (194.7)</td>\n",
       "    </tr>\n",
       "    <tr>\n",
       "      <th>1</th>\n",
       "      <td>2</td>\n",
       "      <td>01 (0.0)</td>\n",
       "      <td>06 (40.9)</td>\n",
       "      <td>08 (43.1)</td>\n",
       "      <td>05 (44.4)</td>\n",
       "      <td>09 (44.6)</td>\n",
       "      <td>03 (46.4)</td>\n",
       "      <td>04 (47.0)</td>\n",
       "      <td>02 (49.0)</td>\n",
       "      <td>07 (49.2)</td>\n",
       "      <td>11 (82.5)</td>\n",
       "      <td>10 (185.5)</td>\n",
       "    </tr>\n",
       "    <tr>\n",
       "      <th>2</th>\n",
       "      <td>3</td>\n",
       "      <td>01 (0.0)</td>\n",
       "      <td>06 (38.7)</td>\n",
       "      <td>08 (39.7)</td>\n",
       "      <td>09 (41.6)</td>\n",
       "      <td>05 (41.9)</td>\n",
       "      <td>03 (44.0)</td>\n",
       "      <td>04 (44.3)</td>\n",
       "      <td>02 (44.5)</td>\n",
       "      <td>07 (45.9)</td>\n",
       "      <td>11 (76.1)</td>\n",
       "      <td>10 (168.4)</td>\n",
       "    </tr>\n",
       "    <tr>\n",
       "      <th>3</th>\n",
       "      <td>4</td>\n",
       "      <td>01 (0.0)</td>\n",
       "      <td>06 (35.5)</td>\n",
       "      <td>08 (36.4)</td>\n",
       "      <td>09 (38.8)</td>\n",
       "      <td>05 (39.4)</td>\n",
       "      <td>04 (41.0)</td>\n",
       "      <td>02 (41.0)</td>\n",
       "      <td>03 (41.7)</td>\n",
       "      <td>07 (41.7)</td>\n",
       "      <td>11 (72.1)</td>\n",
       "      <td>10 (162.0)</td>\n",
       "    </tr>\n",
       "    <tr>\n",
       "      <th>4</th>\n",
       "      <td>5</td>\n",
       "      <td>01 (0.0)</td>\n",
       "      <td>06 (31.6)</td>\n",
       "      <td>08 (33.2)</td>\n",
       "      <td>09 (35.8)</td>\n",
       "      <td>05 (36.0)</td>\n",
       "      <td>07 (37.4)</td>\n",
       "      <td>02 (37.5)</td>\n",
       "      <td>03 (38.2)</td>\n",
       "      <td>04 (38.8)</td>\n",
       "      <td>11 (63.2)</td>\n",
       "      <td>10 (153.4)</td>\n",
       "    </tr>\n",
       "    <tr>\n",
       "      <th>5</th>\n",
       "      <td>6</td>\n",
       "      <td>01 (0.0)</td>\n",
       "      <td>06 (28.2)</td>\n",
       "      <td>08 (29.9)</td>\n",
       "      <td>09 (32.8)</td>\n",
       "      <td>07 (32.9)</td>\n",
       "      <td>05 (33.0)</td>\n",
       "      <td>02 (34.4)</td>\n",
       "      <td>03 (35.9)</td>\n",
       "      <td>04 (36.8)</td>\n",
       "      <td>11 (60.4)</td>\n",
       "      <td>10 (146.5)</td>\n",
       "    </tr>\n",
       "    <tr>\n",
       "      <th>6</th>\n",
       "      <td>7</td>\n",
       "      <td>01 (0.0)</td>\n",
       "      <td>06 (24.9)</td>\n",
       "      <td>08 (27.4)</td>\n",
       "      <td>07 (29.9)</td>\n",
       "      <td>05 (30.4)</td>\n",
       "      <td>09 (30.5)</td>\n",
       "      <td>02 (32.0)</td>\n",
       "      <td>03 (34.2)</td>\n",
       "      <td>04 (34.7)</td>\n",
       "      <td>11 (54.2)</td>\n",
       "      <td>10 (137.1)</td>\n",
       "    </tr>\n",
       "    <tr>\n",
       "      <th>7</th>\n",
       "      <td>8</td>\n",
       "      <td>01 (0.0)</td>\n",
       "      <td>06 (20.2)</td>\n",
       "      <td>03 (22.9)</td>\n",
       "      <td>08 (23.1)</td>\n",
       "      <td>07 (25.1)</td>\n",
       "      <td>09 (26.5)</td>\n",
       "      <td>02 (27.2)</td>\n",
       "      <td>05 (27.8)</td>\n",
       "      <td>04 (30.0)</td>\n",
       "      <td>11 (48.2)</td>\n",
       "      <td>10 (128.7)</td>\n",
       "    </tr>\n",
       "    <tr>\n",
       "      <th>8</th>\n",
       "      <td>9</td>\n",
       "      <td>01 (0.0)</td>\n",
       "      <td>06 (15.9)</td>\n",
       "      <td>08 (17.8)</td>\n",
       "      <td>07 (19.0)</td>\n",
       "      <td>05 (19.8)</td>\n",
       "      <td>03 (20.3)</td>\n",
       "      <td>02 (23.5)</td>\n",
       "      <td>09 (23.9)</td>\n",
       "      <td>04 (27.3)</td>\n",
       "      <td>11 (31.7)</td>\n",
       "      <td>10 (119.4)</td>\n",
       "    </tr>\n",
       "    <tr>\n",
       "      <th>9</th>\n",
       "      <td>10</td>\n",
       "      <td>01 (0.0)</td>\n",
       "      <td>06 (14.0)</td>\n",
       "      <td>07 (14.6)</td>\n",
       "      <td>08 (14.7)</td>\n",
       "      <td>05 (15.1)</td>\n",
       "      <td>03 (17.7)</td>\n",
       "      <td>02 (19.0)</td>\n",
       "      <td>09 (19.5)</td>\n",
       "      <td>04 (26.1)</td>\n",
       "      <td>11 (29.1)</td>\n",
       "      <td>10 (110.8)</td>\n",
       "    </tr>\n",
       "    <tr>\n",
       "      <th>10</th>\n",
       "      <td>11</td>\n",
       "      <td>01 (0.0)</td>\n",
       "      <td>08 (4.9)</td>\n",
       "      <td>05 (9.8)</td>\n",
       "      <td>07 (11.1)</td>\n",
       "      <td>06 (12.0)</td>\n",
       "      <td>02 (12.2)</td>\n",
       "      <td>03 (14.5)</td>\n",
       "      <td>09 (16.2)</td>\n",
       "      <td>11 (23.8)</td>\n",
       "      <td>04 (24.9)</td>\n",
       "      <td>10 (102.1)</td>\n",
       "    </tr>\n",
       "  </tbody>\n",
       "</table>\n",
       "</div>"
      ],
      "text/plain": [
       "    0         1          2          3          4          5          6   \\\n",
       "0    1  01 (0.0)  06 (44.7)  08 (48.0)  05 (48.2)  09 (49.2)  03 (50.6)   \n",
       "1    2  01 (0.0)  06 (40.9)  08 (43.1)  05 (44.4)  09 (44.6)  03 (46.4)   \n",
       "2    3  01 (0.0)  06 (38.7)  08 (39.7)  09 (41.6)  05 (41.9)  03 (44.0)   \n",
       "3    4  01 (0.0)  06 (35.5)  08 (36.4)  09 (38.8)  05 (39.4)  04 (41.0)   \n",
       "4    5  01 (0.0)  06 (31.6)  08 (33.2)  09 (35.8)  05 (36.0)  07 (37.4)   \n",
       "5    6  01 (0.0)  06 (28.2)  08 (29.9)  09 (32.8)  07 (32.9)  05 (33.0)   \n",
       "6    7  01 (0.0)  06 (24.9)  08 (27.4)  07 (29.9)  05 (30.4)  09 (30.5)   \n",
       "7    8  01 (0.0)  06 (20.2)  03 (22.9)  08 (23.1)  07 (25.1)  09 (26.5)   \n",
       "8    9  01 (0.0)  06 (15.9)  08 (17.8)  07 (19.0)  05 (19.8)  03 (20.3)   \n",
       "9   10  01 (0.0)  06 (14.0)  07 (14.6)  08 (14.7)  05 (15.1)  03 (17.7)   \n",
       "10  11  01 (0.0)   08 (4.9)   05 (9.8)  07 (11.1)  06 (12.0)  02 (12.2)   \n",
       "\n",
       "           7          8          9          10          11  \n",
       "0   02 (53.2)  04 (53.6)  07 (55.2)  11 (90.6)  10 (194.7)  \n",
       "1   04 (47.0)  02 (49.0)  07 (49.2)  11 (82.5)  10 (185.5)  \n",
       "2   04 (44.3)  02 (44.5)  07 (45.9)  11 (76.1)  10 (168.4)  \n",
       "3   02 (41.0)  03 (41.7)  07 (41.7)  11 (72.1)  10 (162.0)  \n",
       "4   02 (37.5)  03 (38.2)  04 (38.8)  11 (63.2)  10 (153.4)  \n",
       "5   02 (34.4)  03 (35.9)  04 (36.8)  11 (60.4)  10 (146.5)  \n",
       "6   02 (32.0)  03 (34.2)  04 (34.7)  11 (54.2)  10 (137.1)  \n",
       "7   02 (27.2)  05 (27.8)  04 (30.0)  11 (48.2)  10 (128.7)  \n",
       "8   02 (23.5)  09 (23.9)  04 (27.3)  11 (31.7)  10 (119.4)  \n",
       "9   02 (19.0)  09 (19.5)  04 (26.1)  11 (29.1)  10 (110.8)  \n",
       "10  03 (14.5)  09 (16.2)  11 (23.8)  04 (24.9)  10 (102.1)  "
      ]
     },
     "execution_count": 4,
     "metadata": {},
     "output_type": "execute_result"
    }
   ],
   "source": [
    "pandas.DataFrame(similarity_chart)"
   ]
  },
  {
   "cell_type": "markdown",
   "metadata": {},
   "source": [
    "##  Results Using Euclidean Distance"
   ]
  },
  {
   "cell_type": "code",
   "execution_count": 5,
   "metadata": {
    "collapsed": false
   },
   "outputs": [
    {
     "name": "stdout",
     "output_type": "stream",
     "text": [
      "DF: 1 Documents: 11 Vocabulary: 3996\n"
     ]
    }
   ],
   "source": [
    "# recalculate with no minimum df\n",
    "df_factor=1\n",
    "vectorizer = CountVectorizer(input='filename',stop_words='english',\n",
    "                             strip_accents='unicode',lowercase=True,\n",
    "                             min_df=df_factor)\n",
    "dtm_matrix = vectorizer.fit_transform(texts).toarray()\n",
    "    \n",
    "# tell us about the model\n",
    "documents, vocabulary = dtm_matrix.shape\n",
    "print(\"DF: {0} Documents: {1} Vocabulary: {2}\".format(df_factor,documents,vocabulary))\n",
    "\n",
    "# calculate distances between texts\n",
    "dist_matrix = euclidean_distances(dtm_matrix)"
   ]
  },
  {
   "cell_type": "code",
   "execution_count": 6,
   "metadata": {
    "collapsed": false,
    "scrolled": true
   },
   "outputs": [
    {
     "name": "stdout",
     "output_type": "stream",
     "text": [
      "Douglass/01 (0.0)\n",
      "Douglass/06 (44.71018)\n",
      "Douglass/08 (48.02083)\n",
      "Douglass/05 (48.19751)\n",
      "Douglass/09 (49.15282)\n",
      "Douglass/03 (50.5569)\n",
      "Douglass/02 (53.20714)\n",
      "Douglass/04 (53.57238)\n",
      "Douglass/07 (55.22681)\n",
      "Douglass/11 (90.60353)\n",
      "Douglass/10 (194.71774)\n"
     ]
    }
   ],
   "source": [
    "#display distance from the first text\n",
    "for x,y in sorted(enumerate(np.round(dist_matrix[0],5)), key=itemgetter(1)):\n",
    "    print('{0} ({1})'.format(texts[x],y))"
   ]
  },
  {
   "cell_type": "code",
   "execution_count": 7,
   "metadata": {
    "collapsed": false
   },
   "outputs": [
    {
     "data": {
      "image/png": "[encoded data removed]",
      "text/plain": [
       "<matplotlib.figure.Figure at 0x10d7b3160>"
      ]
     },
     "metadata": {},
     "output_type": "display_data"
    }
   ],
   "source": [
    "# reduce using MDS and allow MDS to calculate Euclidean distances\n",
    "from sklearn.manifold import MDS\n",
    "mds = MDS(n_components=2, dissimilarity=\"euclidean\", random_state=1)\n",
    "pos = mds.fit_transform(dtm_matrix)\n",
    "\n",
    "# plot!\n",
    "import matplotlib.pyplot as plt\n",
    "xs, ys = pos[:, 0], pos[:, 1]\n",
    "fig = plt.figure(figsize=(15, 10),)\n",
    "\n",
    "for x, y, text in zip(xs, ys, texts):\n",
    "    plt.scatter(x, y, c='black',s=10)\n",
    "    plt.text(x, y, text)\n",
    "plt.show()"
   ]
  },
  {
   "cell_type": "code",
   "execution_count": 8,
   "metadata": {
    "collapsed": false
   },
   "outputs": [
    {
     "data": {
      "text/plain": [
       "<matplotlib.axes._subplots.AxesSubplot at 0x10d725a58>"
      ]
     },
     "execution_count": 8,
     "metadata": {},
     "output_type": "execute_result"
    },
    {
     "data": {
      "image/png": "[encoded data removed]",
      "text/plain": [
       "<matplotlib.figure.Figure at 0x10d725748>"
      ]
     },
     "metadata": {},
     "output_type": "display_data"
    }
   ],
   "source": [
    "# display the similarity matrix (white=similar, dark blue=different)\n",
    "sn.heatmap(dist_matrix, cmap='Blues',linewidths=.5)"
   ]
  },
  {
   "cell_type": "code",
   "execution_count": 9,
   "metadata": {
    "collapsed": false
   },
   "outputs": [
    {
     "data": {
      "text/plain": [
       "<seaborn.matrix.ClusterGrid at 0x10d743828>"
      ]
     },
     "execution_count": 9,
     "metadata": {},
     "output_type": "execute_result"
    },
    {
     "data": {
      "image/png": "[encoded data removed]",
      "text/plain": [
       "<matplotlib.figure.Figure at 0x10d743e48>"
      ]
     },
     "metadata": {},
     "output_type": "display_data"
    }
   ],
   "source": [
    "# cluster the chapters together\n",
    "sn.clustermap(dist_matrix,cmap='Blues',fmt='g',linewidths=.5)"
   ]
  },
  {
   "cell_type": "markdown",
   "metadata": {},
   "source": [
    "##  Results Using Cosine Similarity"
   ]
  },
  {
   "cell_type": "code",
   "execution_count": 10,
   "metadata": {
    "collapsed": false
   },
   "outputs": [
    {
     "name": "stdout",
     "output_type": "stream",
     "text": [
      "Douglass/01 (0.0)\n",
      "Douglass/09 (0.50372)\n",
      "Douglass/08 (0.52118)\n",
      "Douglass/10 (0.54317)\n",
      "Douglass/02 (0.58984)\n",
      "Douglass/07 (0.62011)\n",
      "Douglass/11 (0.62676)\n",
      "Douglass/03 (0.62862)\n",
      "Douglass/06 (0.62962)\n",
      "Douglass/05 (0.65433)\n",
      "Douglass/04 (0.6901)\n"
     ]
    }
   ],
   "source": [
    "# recalcuate distance matrix using cosine (dis)similarity\n",
    "dist_matrix = 1 - cosine_similarity(dtm_matrix)\n",
    "\n",
    "#display distance from the first text\n",
    "for x,y in sorted(enumerate(np.round(dist_matrix[0],5)), key=itemgetter(1)):\n",
    "    print('{0} ({1})'.format(texts[x],y))"
   ]
  },
  {
   "cell_type": "code",
   "execution_count": 11,
   "metadata": {
    "collapsed": false
   },
   "outputs": [
    {
     "data": {
      "image/png": "[encoded data removed]",
      "text/plain": [
       "<matplotlib.figure.Figure at 0x10d7d94a8>"
      ]
     },
     "metadata": {},
     "output_type": "display_data"
    }
   ],
   "source": [
    "# reduce using MDS \n",
    "from sklearn.manifold import MDS\n",
    "mds = MDS(n_components=2, dissimilarity='precomputed', random_state=1)\n",
    "pos = mds.fit_transform(dist_matrix)\n",
    "\n",
    "# plot!\n",
    "import matplotlib.pyplot as plt\n",
    "xs, ys = pos[:, 0], pos[:, 1]\n",
    "fig = plt.figure(figsize=(15, 10),)\n",
    "\n",
    "for x, y, text in zip(xs, ys, texts):\n",
    "    plt.scatter(x, y, c='black',s=10)\n",
    "    plt.text(x, y, text)\n",
    "plt.show()"
   ]
  },
  {
   "cell_type": "code",
   "execution_count": 12,
   "metadata": {
    "collapsed": false
   },
   "outputs": [
    {
     "data": {
      "text/plain": [
       "<matplotlib.axes._subplots.AxesSubplot at 0x10d8b1c18>"
      ]
     },
     "execution_count": 12,
     "metadata": {},
     "output_type": "execute_result"
    },
    {
     "data": {
      "image/png": "[encoded data removed]",
      "text/plain": [
       "<matplotlib.figure.Figure at 0x10d7f1cf8>"
      ]
     },
     "metadata": {},
     "output_type": "display_data"
    }
   ],
   "source": [
    "# display the similarity matrix (white=similar, dark blue=different)\n",
    "sn.heatmap(dist_matrix, cmap='Blues',linewidths=.5)"
   ]
  },
  {
   "cell_type": "code",
   "execution_count": 13,
   "metadata": {
    "collapsed": false
   },
   "outputs": [
    {
     "data": {
      "text/plain": [
       "<seaborn.matrix.ClusterGrid at 0x10f53d4e0>"
      ]
     },
     "execution_count": 13,
     "metadata": {},
     "output_type": "execute_result"
    },
    {
     "data": {
      "image/png": "[encoded data removed]",
      "text/plain": [
       "<matplotlib.figure.Figure at 0x10f53d3c8>"
      ]
     },
     "metadata": {},
     "output_type": "display_data"
    }
   ],
   "source": [
    "# cluster the chapters together\n",
    "sn.clustermap(dist_matrix,cmap='Blues',fmt='g',linewidths=.5)"
   ]
  }
 ],
 "metadata": {
  "kernelspec": {
   "display_name": "Python 3",
   "language": "python",
   "name": "python3"
  },
  "language_info": {
   "codemirror_mode": {
    "name": "ipython",
    "version": 3
   },
   "file_extension": ".py",
   "mimetype": "text/x-python",
   "name": "python",
   "nbconvert_exporter": "python",
   "pygments_lexer": "ipython3",
   "version": "3.5.5"
  }
 },
 "nbformat": 4,
 "nbformat_minor": 2
}
