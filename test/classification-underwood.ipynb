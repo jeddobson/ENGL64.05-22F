{
 "cells": [
  {
   "cell_type": "code",
   "execution_count": null,
   "id": "7b7ce4be",
   "metadata": {},
   "outputs": [],
   "source": [
    "import pandas as pd\n",
    "import numpy as np\n",
    "\n",
    "from sklearn.feature_extraction import DictVectorizer\n",
    "from sklearn.linear_model import SGDClassifier\n",
    "\n",
    "import sys\n",
    "sys.path.append('../lib')\n",
    "from tsvdro import tsvdro"
   ]
  },
  {
   "cell_type": "code",
   "execution_count": null,
   "id": "1a0e8405",
   "metadata": {},
   "outputs": [],
   "source": [
    "metadata = pd.read_csv(\"../data/Underwood_ch1/allgenremeta.csv\")\n",
    "genres = list(metadata['genretags'])"
   ]
  },
  {
   "cell_type": "code",
   "execution_count": null,
   "id": "5e138d3c",
   "metadata": {},
   "outputs": [],
   "source": [
    "vectorizer = DictVectorizer()\n",
    "doc_data = list()\n",
    "\n",
    "for filename in [f + '.dro' for f in metadata['docid'].tolist()]:\n",
    "    tmp_data = tsvdro.load(\"../data/Underwood_ch1/\" + filename)\n",
    "    doc_data.append(tmp_data['data'])\n",
    "dtm = vectorizer.fit_transform(doc_data)"
   ]
  },
  {
   "cell_type": "code",
   "execution_count": null,
   "id": "4723566a",
   "metadata": {},
   "outputs": [],
   "source": [
    "clf = SGDClassifier(tol=None,\n",
    "                    max_iter=1000).fit(dtm, genres)"
   ]
  },
  {
   "cell_type": "code",
   "execution_count": null,
   "id": "ef284ce0",
   "metadata": {},
   "outputs": [],
   "source": [
    "feat_number = 100\n",
    "feature_names = vectorizer.get_feature_names_out()\n",
    "for i, class_label in enumerate(clf.classes_):\n",
    "    terms = np.argsort(clf.coef_[i])[-feat_number:]\n",
    "    print(\"%s: %s\" % (class_label,\n",
    "                      \", \".join(feature_names[j] for j in terms)))"
   ]
  },
  {
   "cell_type": "code",
   "execution_count": null,
   "id": "6627d6f6",
   "metadata": {},
   "outputs": [],
   "source": []
  }
 ],
 "metadata": {
  "kernelspec": {
   "display_name": "Python 3 (ipykernel)",
   "language": "python",
   "name": "python3"
  },
  "language_info": {
   "codemirror_mode": {
    "name": "ipython",
    "version": 3
   },
   "file_extension": ".py",
   "mimetype": "text/x-python",
   "name": "python",
   "nbconvert_exporter": "python",
   "pygments_lexer": "ipython3",
   "version": "3.10.6"
  }
 },
 "nbformat": 4,
 "nbformat_minor": 5
}
