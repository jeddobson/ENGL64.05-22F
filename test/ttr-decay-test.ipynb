{
 "cells": [
  {
   "cell_type": "code",
   "execution_count": 1,
   "id": "fbd439e0",
   "metadata": {},
   "outputs": [],
   "source": [
    "import glob as glob\n",
    "\n",
    "import nltk\n",
    "from nltk.tokenize import sent_tokenize, word_tokenize\n",
    "\n",
    "import numpy as np\n",
    "import pandas as pd\n",
    "\n",
    "import matplotlib.pyplot as plt\n",
    "%matplotlib inline"
   ]
  },
  {
   "cell_type": "code",
   "execution_count": null,
   "id": "27f06b41",
   "metadata": {},
   "outputs": [],
   "source": [
    "input_files = glob.glob(\"../data/na*/data/texts/*.txt\")\n",
    "\n",
    "type_token_ratios = list()\n",
    "for text in input_files:\n",
    "    temp_list = list()\n",
    "    raw_text = open(text).read()\n",
    "    tokens = nltk.word_tokenize(raw_text)\n",
    "    ns = 100\n",
    "    segment_length = int(len(tokens) / ns)\n",
    "    segments = list()\n",
    "    for j in range(ns):\n",
    "        seg = tokens[segment_length*j:segment_length*(j+1)]\n",
    "        seg_tokens = len(seg)\n",
    "        seg_types = len(set(seg))\n",
    "        temp_list.append(seg_types/seg_tokens)\n",
    "    type_token_ratios.append(temp_list)"
   ]
  },
  {
   "cell_type": "code",
   "execution_count": null,
   "id": "930fea88",
   "metadata": {},
   "outputs": [],
   "source": [
    "means = [np.mean([document[seg] for document in type_token_ratios]) for seg in range(100)]"
   ]
  },
  {
   "cell_type": "code",
   "execution_count": null,
   "id": "cc2fb5c5",
   "metadata": {},
   "outputs": [],
   "source": [
    "# This transforms the list of lists into a multi-dimensional array\n",
    "ttr_array = np.array(type_token_ratios)"
   ]
  },
  {
   "cell_type": "code",
   "execution_count": null,
   "id": "e562b590",
   "metadata": {},
   "outputs": [],
   "source": [
    "# what is the shape (x,y) of this array?\n",
    "ttr_array.shape"
   ]
  },
  {
   "cell_type": "code",
   "execution_count": null,
   "id": "56ff322a",
   "metadata": {},
   "outputs": [],
   "source": [
    "# extract mean values of each column\n",
    "means = np.mean(ttr_array,axis=0)"
   ]
  },
  {
   "cell_type": "code",
   "execution_count": null,
   "id": "5e5a919d",
   "metadata": {},
   "outputs": [],
   "source": [
    "# plot mean data\n",
    "plt.plot(means)\n",
    "plt.title(\"Mean TTR Ratios for Collection\")\n",
    "plt.xlabel(\"Segment\")\n",
    "plt.ylabel(\"Type-Token Ratio\")\n",
    "plt.show()"
   ]
  },
  {
   "cell_type": "code",
   "execution_count": null,
   "id": "0e0c4c83",
   "metadata": {},
   "outputs": [],
   "source": [
    "# Transform into a DataFrame\n",
    "df = pd.DataFrame(type_token_ratios).transpose()"
   ]
  },
  {
   "cell_type": "code",
   "execution_count": null,
   "id": "08496196",
   "metadata": {},
   "outputs": [],
   "source": [
    "df.T.boxplot(figsize=(20,5), sym='')"
   ]
  }
 ],
 "metadata": {
  "kernelspec": {
   "display_name": "Python 3 (ipykernel)",
   "language": "python",
   "name": "python3"
  },
  "language_info": {
   "codemirror_mode": {
    "name": "ipython",
    "version": 3
   },
   "file_extension": ".py",
   "mimetype": "text/x-python",
   "name": "python",
   "nbconvert_exporter": "python",
   "pygments_lexer": "ipython3",
   "version": "3.10.6"
  }
 },
 "nbformat": 4,
 "nbformat_minor": 5
}
