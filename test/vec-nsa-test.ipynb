{
 "cells": [
  {
   "cell_type": "code",
   "execution_count": null,
   "id": "38d344e4",
   "metadata": {},
   "outputs": [],
   "source": [
    "from sklearn.feature_extraction.text import CountVectorizer\n",
    "from sklearn.metrics.pairwise import cosine_similarity\n",
    "from operator import itemgetter\n",
    "import matplotlib.pyplot as plt\n",
    "from sklearn.cluster import KMeans\n",
    "from sklearn.manifold import MDS\n",
    "import seaborn as sn\n",
    "import glob as glob"
   ]
  },
  {
   "cell_type": "code",
   "execution_count": null,
   "id": "d2857c52",
   "metadata": {},
   "outputs": [],
   "source": [
    "vec = CountVectorizer(input='filename',\n",
    "                      lowercase = True,\n",
    "                      min_df = .2,\n",
    "                      strip_accents = 'unicode')"
   ]
  },
  {
   "cell_type": "code",
   "execution_count": null,
   "id": "c4bba959",
   "metadata": {},
   "outputs": [],
   "source": [
    "input_files = glob.glob(\"../data/na*/data/texts/*.txt\")\n",
    "dtm = vec.fit_transform(input_files)"
   ]
  },
  {
   "cell_type": "code",
   "execution_count": null,
   "id": "9b9c1b5c",
   "metadata": {},
   "outputs": [],
   "source": [
    "dc, vc = dtm.shape\n",
    "print(\"document count:\",dc,\"vocabulary count:\",vc)"
   ]
  },
  {
   "cell_type": "code",
   "execution_count": null,
   "id": "46c64fb9",
   "metadata": {},
   "outputs": [],
   "source": [
    "# kmeans cluster\n",
    "means = KMeans(n_clusters=10)\n",
    "fitted = means.fit_transform(dtm)\n",
    "centroids = means.cluster_centers_\n",
    "fitted_dist = means.transform(dtm)\n",
    "labels = means.fit_predict(dtm)"
   ]
  },
  {
   "cell_type": "code",
   "execution_count": null,
   "id": "bd8d935b",
   "metadata": {},
   "outputs": [],
   "source": [
    "for class_num in set(labels):\n",
    "    print(\"Class:\",class_num)\n",
    "    for doc, kclass in zip(input_files,labels):\n",
    "        if class_num == kclass:\n",
    "            print(doc)\n",
    "    print(\"\\n\")"
   ]
  },
  {
   "cell_type": "code",
   "execution_count": null,
   "id": "cd73afd5",
   "metadata": {},
   "outputs": [],
   "source": [
    "dist_matrix = 1 - cosine_similarity(dtm)"
   ]
  },
  {
   "cell_type": "code",
   "execution_count": null,
   "id": "1e9ab081",
   "metadata": {},
   "outputs": [],
   "source": [
    "# display the similarity matrix (white=similar, dark blue=different)\n",
    "%matplotlib inline\n",
    "sn.clustermap(dist_matrix,cmap='Blues',fmt='g',linewidths=.5)"
   ]
  },
  {
   "cell_type": "code",
   "execution_count": null,
   "id": "c3c0f4d2",
   "metadata": {},
   "outputs": [],
   "source": [
    "plt.scatter(centroids[:,0] , centroids[:,1], color = 'red', s=200, alpha=0.5)\n",
    "plt.show()"
   ]
  },
  {
   "cell_type": "code",
   "execution_count": null,
   "id": "7fb46e8a",
   "metadata": {},
   "outputs": [],
   "source": [
    "mds = MDS(n_components=2, dissimilarity=\"precomputed\", random_state=1)\n",
    "pos = mds.fit_transform(dist_matrix)\n",
    "plt.scatter(pos[:, 0],pos[:, 1])"
   ]
  },
  {
   "cell_type": "code",
   "execution_count": null,
   "id": "1f255b15",
   "metadata": {},
   "outputs": [],
   "source": [
    "for x, y in sorted(enumerate(dist_matrix[21]), key=itemgetter(1)):\n",
    "    print('{0:.2f} {1}'.format(y,input_files[x]))"
   ]
  },
  {
   "cell_type": "code",
   "execution_count": null,
   "id": "37b82cbb",
   "metadata": {},
   "outputs": [],
   "source": []
  }
 ],
 "metadata": {
  "kernelspec": {
   "display_name": "Python 3 (ipykernel)",
   "language": "python",
   "name": "python3"
  },
  "language_info": {
   "codemirror_mode": {
    "name": "ipython",
    "version": 3
   },
   "file_extension": ".py",
   "mimetype": "text/x-python",
   "name": "python",
   "nbconvert_exporter": "python",
   "pygments_lexer": "ipython3",
   "version": "3.10.6"
  }
 },
 "nbformat": 4,
 "nbformat_minor": 5
}
