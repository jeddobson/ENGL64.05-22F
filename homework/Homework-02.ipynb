{
 "cells": [
  {
   "cell_type": "markdown",
   "metadata": {},
   "source": [
    "<center><h1>Cultural Analytics: Homework #2</h1></center>\n",
    "<center><h2>ENGL 64.05 / QSS 30.16, 22F</h2></center>\n",
    "<br>\n",
    "<center><b>Due</b> 11:59PM 10/06/2022</center>\n",
    "\n",
    "---"
   ]
  },
  {
   "cell_type": "code",
   "execution_count": null,
   "metadata": {},
   "outputs": [],
   "source": [
    "import os\n",
    "import csv\n",
    "import numpy as np\n",
    "import sklearn\n",
    "from operator import itemgetter\n",
    "\n",
    "import sys\n",
    "sys.path.append('shared/ENGL64.05-22F/lib')\n",
    "\n",
    "from tsvdro import tsvdro"
   ]
  },
  {
   "cell_type": "markdown",
   "metadata": {},
   "source": [
    "---\n",
    "<h2><font color=\"Green\"> HW 2.1</font>: Vectorization and Visualization</h2>\n",
    "\n",
    "Insert a new cell or multiple cells and do the following:\n",
    "1. Vectorize *all* of the novels in the Novel450 dataset.\n",
    "2. Do not define any stopwords.\n",
    "3. Your document-term matrix should be called \"dtm.\"\n",
    "4. Create a variable called \"labels\" that contains first part of the (basename'd) filename. \n",
    "\n",
    "Run the remainder of the cells."
   ]
  },
  {
   "cell_type": "code",
   "execution_count": null,
   "metadata": {},
   "outputs": [],
   "source": [
    "# This will produce a distance matrix using Cosine similarity\n",
    "# https://en.wikipedia.org/wiki/Cosine_similarity\n",
    "# https://scikit-learn.org/stable/modules/generated/sklearn.metrics.pairwise.cosine_similarity.html\n",
    "\n",
    "from sklearn.metrics.pairwise import cosine_similarity\n",
    "cosine_dist_matrix = 1 - cosine_similarity(dtm)"
   ]
  },
  {
   "cell_type": "code",
   "execution_count": null,
   "metadata": {},
   "outputs": [],
   "source": [
    "# The Cosine similarity matrix is the size of sample x sample \n",
    "# We need to reduce this to two dimensions using Multidimensional Scaling (MDS) \n",
    "# in order to plot the data.\n",
    "\n",
    "from sklearn.manifold import MDS\n",
    "mds = MDS(n_components=2, dissimilarity=\"precomputed\", random_state=1)\n",
    "pos = mds.fit_transform(cosine_dist_matrix)"
   ]
  },
  {
   "cell_type": "code",
   "execution_count": null,
   "metadata": {},
   "outputs": [],
   "source": [
    "# Visualize the results of MDS\n",
    "# \n",
    "# NOTE: you might need to click on the image to expand it enough to read it. \n",
    "# \n",
    "\n",
    "import matplotlib.pyplot as plt\n",
    "xs, ys = pos[:, 0], pos[:, 1]\n",
    "fig = plt.figure(figsize=(35, 20), dpi=75)\n",
    "\n",
    "# this will loop through four different lists simultaneously\n",
    "for x, y, label in zip(xs, ys, labels):\n",
    "\n",
    "    # plot the point itsself\n",
    "    plt.scatter(x, y, c='lightgrey',s=6)\n",
    "\n",
    "    # This line will annotate the point by displaying \n",
    "    # the label in blue\n",
    "    plt.text(x, y, label, c=\"blue\", ha='center', va='top')\n",
    "\n",
    "    plt.axis('off')\n",
    "plt.show()"
   ]
  },
  {
   "cell_type": "markdown",
   "metadata": {},
   "source": [
    "## Written Response: \n",
    "In no more than two hundred words respond to the following prompt: What do you observe in the above visualization? What questions do you have about the dataset and these methods?"
   ]
  },
  {
   "cell_type": "markdown",
   "metadata": {},
   "source": []
  },
  {
   "cell_type": "markdown",
   "metadata": {},
   "source": [
    "<h2><font color=\"Green\"> HW 2.2</font>: Vectorization of Pre-Vectorized Data and Comparison by Genre</h2>\n",
    "\n",
    "<p>Now you'll need to take a sample of entries from Ted Underwood's metadata (this time using Pandas) and then work through the remainder of the cells in this group and then respond to the prompt.</p>\n"
   ]
  },
  {
   "cell_type": "code",
   "execution_count": null,
   "metadata": {},
   "outputs": [],
   "source": [
    "# This time we're going to load the CSV using Pandas into a DataFrame.\n",
    "# https://pandas.pydata.org/pandas-docs/stable/reference/api/pandas.DataFrame.html\n",
    "\n",
    "import pandas as pd\n",
    "\n",
    "# Using a DataFrame will have some obvious benefits, including the automatic reading\n",
    "# of the header row and guessing datatypes for our numerical values (i.e., year of publication)\n",
    "metadata = pd.read_csv(\"shared/ENGL64.05-21F/data/Underwood_ch1/allgenremeta.csv\")"
   ]
  },
  {
   "cell_type": "code",
   "execution_count": null,
   "metadata": {},
   "outputs": [],
   "source": [
    "# Create a sample of 150 rows from the metadata using Pandas and assign it to \n",
    "# a variable named \"sample.\" How much data should you sample? \n",
    "# What do you think makes sense?\n",
    "#\n",
    "# See https://pandas.pydata.org/docs/user_guide/indexing.html#selecting-random-samples for help with this"
   ]
  },
  {
   "cell_type": "code",
   "execution_count": null,
   "metadata": {},
   "outputs": [],
   "source": [
    "# Display some of your sample DataFrame\n",
    "sample"
   ]
  },
  {
   "cell_type": "code",
   "execution_count": null,
   "metadata": {},
   "outputs": [],
   "source": [
    "# You can count the selected genres of your sample:\n",
    "sample['genretags'].value_counts()"
   ]
  },
  {
   "cell_type": "code",
   "execution_count": null,
   "metadata": {},
   "outputs": [],
   "source": [
    "# We can get a mean using familiar Python tools:\n",
    "np.mean(list(sample['date']))"
   ]
  },
  {
   "cell_type": "code",
   "execution_count": null,
   "metadata": {},
   "outputs": [],
   "source": [
    "# But data such can more easily be processed using Pandas tools:\n",
    "sample['date'].describe()"
   ]
  },
  {
   "cell_type": "markdown",
   "metadata": {},
   "source": [
    "## Now create two lists from your sample DataFrame.\n",
    "1. A list named 'genres' that contains the genre of each row\n",
    "2. A list named 'authors' that contains the name of each author"
   ]
  },
  {
   "cell_type": "code",
   "execution_count": null,
   "metadata": {},
   "outputs": [],
   "source": [
    "# For this example and because the documents provided have already been rendered data\n",
    "# as word frequencies, we'll use the DictVectorizer. This will simply combine the existing \n",
    "# vocabulary.\n",
    "\n",
    "from sklearn.feature_extraction import DictVectorizer\n",
    "vectorizer = DictVectorizer()"
   ]
  },
  {
   "cell_type": "code",
   "execution_count": null,
   "metadata": {},
   "outputs": [],
   "source": [
    "doc_data = list()\n",
    "for filename in [f + '.dro' for f in sample['docid'].tolist()]:\n",
    "    tmp_data = tsvdro.load(\"shared/ENGL64.05-21F/data/Underwood_ch1/\" + filename)\n",
    "    doc_data.append(tmp_data['data'])"
   ]
  },
  {
   "cell_type": "code",
   "execution_count": null,
   "metadata": {},
   "outputs": [],
   "source": [
    "# vectorize from DRO documents\n",
    "dtm = vectorizer.fit_transform(doc_data)"
   ]
  },
  {
   "cell_type": "markdown",
   "metadata": {},
   "source": [
    "## Now use cosine similarity to calculate the distance matrix\n"
   ]
  },
  {
   "cell_type": "markdown",
   "metadata": {},
   "source": [
    "## Visualize using MDS\n",
    "\n",
    "Make sure to plot the distances with genre (on top of point) and author name (on bottom of point) displayed."
   ]
  },
  {
   "cell_type": "markdown",
   "metadata": {},
   "source": [
    "## Written Response: \n",
    "In no more than two hundred words respond to the following prompt: What do you observe in the above visualization? What questions do you have about the dataset and these methods?"
   ]
  },
  {
   "cell_type": "code",
   "execution_count": null,
   "metadata": {},
   "outputs": [],
   "source": []
  }
 ],
 "metadata": {
  "kernelspec": {
   "display_name": "Python 3 (ipykernel)",
   "language": "python",
   "name": "python3"
  },
  "language_info": {
   "codemirror_mode": {
    "name": "ipython",
    "version": 3
   },
   "file_extension": ".py",
   "mimetype": "text/x-python",
   "name": "python",
   "nbconvert_exporter": "python",
   "pygments_lexer": "ipython3",
   "version": "3.10.6"
  }
 },
 "nbformat": 4,
 "nbformat_minor": 2
}
