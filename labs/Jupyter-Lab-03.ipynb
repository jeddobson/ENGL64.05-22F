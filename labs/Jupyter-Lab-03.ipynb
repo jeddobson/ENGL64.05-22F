{
 "cells": [
  {
   "cell_type": "markdown",
   "metadata": {},
   "source": [
    "<center>\n",
    "<h1>Cultural Analytics</h1><br>\n",
    "<h2>ENGL64.05 / QSS 30.16 23F</h2>\n",
    "</center>\n",
    "\n",
    "----\n",
    "\n",
    "# Lab 3\n",
    "## Vectorization\n",
    "\n",
    " <center><pre>Created: 10/09/2019; Revised 09/20/2022</pre></center>"
   ]
  },
  {
   "cell_type": "markdown",
   "metadata": {},
   "source": [
    "<h3><font color=\"Green\">Part One: Vectorization and Vocabulary Reducation</font></h3>\n",
    "\n",
    "Now we're going to convert a single text into a document-term matrix. We'll use Scikit-Learn to vectorize a single text file."
   ]
  },
  {
   "cell_type": "code",
   "execution_count": null,
   "metadata": {},
   "outputs": [],
   "source": [
    "import numpy as np \n",
    "from sklearn.feature_extraction.text import CountVectorizer\n",
    "vectorizer = CountVectorizer(input='filename',\n",
    "                             strip_accents='unicode')"
   ]
  },
  {
   "cell_type": "code",
   "execution_count": null,
   "metadata": {},
   "outputs": [],
   "source": [
    "# Select a single text from the Novel450 dataset and assign the name of this file\n",
    "# to a variable 'source_text'\n",
    "#\n",
    "# To get a list of file names (and the directory), execute these lines:\n",
    "# import glob as glob\n",
    "# glob.glob(\"shared/ENGL64.05-22F/data/Novel450/EN*\")"
   ]
  },
  {
   "cell_type": "code",
   "execution_count": null,
   "metadata": {},
   "outputs": [],
   "source": [
    "# This does the actual vectorization\n",
    "dtm = vectorizer.fit_transform([source_text])\n",
    "\n",
    "# Return total number of documents and the number of items in the vocabulary\n",
    "dc, vc = dtm.shape\n",
    "print(\"document count:\",dc,\"vocabulary count:\",vc)"
   ]
  },
  {
   "cell_type": "code",
   "execution_count": null,
   "metadata": {},
   "outputs": [],
   "source": [
    "# what are our top terms?\n",
    "vocab_sums = dtm.sum(axis=0)\n",
    "sorted_vocab = [(v, vocab_sums[0, i]) for v, i in vectorizer.vocabulary_.items()]\n",
    "sorted_vocab = sorted(sorted_vocab, key = lambda x: x[1], reverse=True)\n",
    "\n",
    "# display top one hundred words\n",
    "for i in range(1,100):\n",
    "    print(sorted_vocab[i][0],\"->\",sorted_vocab[i][1])"
   ]
  },
  {
   "cell_type": "code",
   "execution_count": null,
   "metadata": {},
   "outputs": [],
   "source": [
    "# We're now to going to limit the vocabulary.\n",
    "# Review the documentation for the vectorizer by executing this cell and modify the above line in \n",
    "# which we initialize the vectorizer from CountVectorizer. \n",
    "#\n",
    "# FIRST:\n",
    "# Remove the English language \"stopwords\" and check the top terms. What was removed? What remains?\n",
    "#\n",
    "# THEN:\n",
    "# 1) Add ten new frequently repeated words to the stopword list and re-run the vectorizer, \n",
    "#    removing these terms.\n",
    "# 2) Limit the vocabulary to a maximum of 1000 features and display the top 100 most infrequently used terms.\n",
    "\n",
    "help(vectorizer)"
   ]
  },
  {
   "cell_type": "markdown",
   "metadata": {},
   "source": [
    "<h3><font color=\"Green\">Part Two: Vectorization of a Collection</font></h3>\n",
    "\n",
    "Now we're going to read many texts into a document-term matrix. "
   ]
  },
  {
   "cell_type": "code",
   "execution_count": null,
   "metadata": {},
   "outputs": [],
   "source": [
    "# Use glob to match all novels published in the twentieth century \n",
    "# in the Novel450 dataset. Assign to the variable source_texts."
   ]
  },
  {
   "cell_type": "code",
   "execution_count": null,
   "metadata": {},
   "outputs": [],
   "source": [
    "# now that this is done, let's simplify our filenames \n",
    "import os\n",
    "short_names = [os.path.basename(f) for f in source_texts]"
   ]
  },
  {
   "cell_type": "code",
   "execution_count": null,
   "metadata": {},
   "outputs": [],
   "source": [
    "# A short detour: \n",
    "# While we are playing with creating lists of metadata,\n",
    "# let's use list comprehension (https://docs.python.org/3/tutorial/datastructures.html#list-comprehensions)\n",
    "# to process this list a little more. The variable source_texts should be assigned to a list of filenames.\n",
    "# Make a variable \"labels\" from this list that contains the first part of the filename (EN + Year of Publication).\n",
    "# You might want to use split to do this or find another way to process the filenames.\n",
    "labels = "
   ]
  },
  {
   "cell_type": "code",
   "execution_count": null,
   "metadata": {},
   "outputs": [],
   "source": [
    "dtm = vectorizer.fit_transform(source_texts)\n",
    "\n",
    "# Return total number of documents and the number of items in the vocabulary. This should \n",
    "# be 37 documents.\n",
    "\n",
    "dc, vc = dtm.shape\n",
    "print(\"document count:\",dc,\"vocabulary count:\",vc)"
   ]
  },
  {
   "cell_type": "code",
   "execution_count": null,
   "metadata": {},
   "outputs": [],
   "source": [
    "# create dictionary mapping vocabulary index to word\n",
    "idx2voc = dict([(v, k) for k, v in vectorizer.vocabulary_.items()])"
   ]
  },
  {
   "cell_type": "code",
   "execution_count": null,
   "metadata": {},
   "outputs": [],
   "source": [
    "# what are our top terms, by frequency?\n",
    "vocab_sums = dtm.sum(axis=0)\n",
    "sorted_vocab = [(v, vocab_sums[0, i]) for v, i in vectorizer.vocabulary_.items()]\n",
    "sorted_vocab = sorted(sorted_vocab, key = lambda x: x[1], reverse=True)\n",
    "\n",
    "# display top one hundred words\n",
    "for i in range(1,100):\n",
    "    print(sorted_vocab[i][0],\"->\",sorted_vocab[i][1])"
   ]
  },
  {
   "cell_type": "code",
   "execution_count": null,
   "metadata": {
    "scrolled": false
   },
   "outputs": [],
   "source": [
    "# calculate absolute differences between our first and second text and display\n",
    "# top twenty-five terms with the greatest difference. \n",
    "abs_diff = np.abs(dtm[0] - dtm[1])\n",
    "for i in np.argsort(abs_diff.toarray()[0])[::-1][:25]:\n",
    "    print(idx2voc[i],abs_diff.toarray()[0][i])"
   ]
  },
  {
   "cell_type": "markdown",
   "metadata": {},
   "source": [
    "<h3><font color=\"Green\">Part Three: Vector Similarity</font></h3>\n",
    "\n",
    "In this section, we'll calculate the distance between our vectors representing the modeled texts."
   ]
  },
  {
   "cell_type": "code",
   "execution_count": null,
   "metadata": {},
   "outputs": [],
   "source": [
    "# Let's find the distance in our mapped semantic space between \n",
    "# the vector for the first and for the second file. We'll use\n",
    "# Euclidean distance to measure these differences.\n",
    "\n",
    "from sklearn.metrics import euclidean_distances\n",
    "dist = euclidean_distances(dtm[0],dtm[1])[0][0]\n",
    "print(short_names[0],\"->\",short_names[1],\"=\",dist)"
   ]
  },
  {
   "cell_type": "code",
   "execution_count": null,
   "metadata": {},
   "outputs": [],
   "source": [
    "# We can easily create a distance matrix for all our files easily enough\n",
    "dist_matrix = euclidean_distances(dtm)"
   ]
  },
  {
   "cell_type": "code",
   "execution_count": null,
   "metadata": {},
   "outputs": [],
   "source": [
    "# NumPy's argsort can sort distances from a selected (our first text, in this example) row in the matrix:\n",
    "for i in np.argsort(dist_matrix[0]):\n",
    "    print(short_names[i],dist_matrix[0][i])"
   ]
  },
  {
   "cell_type": "code",
   "execution_count": null,
   "metadata": {},
   "outputs": [],
   "source": [
    "# Now vectorize all the ninteenth-century texts, dropping English-language\n",
    "# stop words, and find the text that is furthest away in our mapped space from\n",
    "# Jane Austen's Pride and Prejudice."
   ]
  }
 ],
 "metadata": {
  "kernelspec": {
   "display_name": "Python 3 (ipykernel)",
   "language": "python",
   "name": "python3"
  },
  "language_info": {
   "codemirror_mode": {
    "name": "ipython",
    "version": 3
   },
   "file_extension": ".py",
   "mimetype": "text/x-python",
   "name": "python",
   "nbconvert_exporter": "python",
   "pygments_lexer": "ipython3",
   "version": "3.10.6"
  }
 },
 "nbformat": 4,
 "nbformat_minor": 2
}
