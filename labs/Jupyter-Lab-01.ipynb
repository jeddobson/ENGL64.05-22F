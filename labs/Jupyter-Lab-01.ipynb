{
 "cells": [
  {
   "cell_type": "markdown",
   "metadata": {},
   "source": [
    "<center>\n",
    "    <h1>Cultural Analytics</h1><br>\n",
    "    <h2>ENGL64.05 / QSS 30.16 22F</h2>\n",
    "</center>\n",
    "\n",
    "----\n",
    "# Text Processing of Strings\n",
    "\n",
    "\n",
    "<center><pre>Created 08/20/2019; Rev. 09/19/2022</pre></center>"
   ]
  },
  {
   "cell_type": "code",
   "execution_count": null,
   "metadata": {},
   "outputs": [],
   "source": [
    "# This is Jupyter code cell. This line is a comment; comments are not executed by the interpreter.\n",
    " \n",
    "# Here we are assigning a variable 'title' the value of 'Cultural Analytics'\n",
    "# this will automatically make 'title' a string\n",
    "title = 'Cultural Analytics'"
   ]
  },
  {
   "cell_type": "markdown",
   "metadata": {},
   "source": [
    "Strings are quoted but there are several different quote types. We will usually be using either ' or \" when performing variable assignment for our strings. You may also see triple quotes. These can be quite useful for multi-line input:\n",
    "<pre>\n",
    "example_variable = \"\"\"Dartmouth educates the most promising students and \n",
    "prepares them for a lifetime of learning and of responsible \n",
    "leadership through a faculty dedicated to teaching and the creation\n",
    "of knowledge.\"\"\"\n",
    "</pre>"
   ]
  },
  {
   "cell_type": "code",
   "execution_count": null,
   "metadata": {},
   "outputs": [],
   "source": [
    "# To see the type assigned, we can use the type() function:\n",
    "type(title)"
   ]
  },
  {
   "cell_type": "code",
   "execution_count": null,
   "metadata": {},
   "outputs": [],
   "source": [
    "# To see the value of a String (especially a short one), we can use the print() function:\n",
    "print(title)"
   ]
  },
  {
   "cell_type": "markdown",
   "metadata": {},
   "source": [
    "# Exploring Datatypes: Strings \n",
    "\n",
    "You can query the Python interpreter for documentation on what can be done with a particular datatype with the help() function. Just like you can learn what can be done with the print() function by executing help(print),you can ask for some basic documentation on the datatype with help(str) which gives us help for the class Str or String. Try that below by creating a new cell and executing that function."
   ]
  },
  {
   "cell_type": "code",
   "execution_count": null,
   "metadata": {
    "scrolled": true
   },
   "outputs": [],
   "source": [
    "# Strings enable us to store and manipulate data, especially text-based data.\n",
    "# They are sequences of characters and they are perfect for the manipulation of text.\n",
    "# We can easily access individual characters by indexing the string by character position:\n",
    "\n",
    "print(title[0])\n",
    "print(title[1])\n",
    "print(title[2])\n",
    "print(title[3])\n",
    "print(title[4])\n",
    "print(title[5])\n",
    "print(title[6])\n",
    "print(title[7])"
   ]
  },
  {
   "cell_type": "code",
   "execution_count": null,
   "metadata": {},
   "outputs": [],
   "source": [
    "# But that was a silly way of obtaining those characters:\n",
    "print(title[:8])\n",
    "\n",
    "# Here we've just exposed something potentially confusing: Strings-as-sequences begin with \n",
    "# the index of 0, so the first character is the zero-eth element but some \n",
    "# methods are going to ask for a specific number of characters--so we want\n",
    "# the first eight characters."
   ]
  },
  {
   "cell_type": "markdown",
   "metadata": {},
   "source": [
    "# Problem: Print the second word of the course title\n",
    "\n",
    "In the cell below, print just the second word of the course title"
   ]
  },
  {
   "cell_type": "code",
   "execution_count": null,
   "metadata": {},
   "outputs": [],
   "source": []
  },
  {
   "cell_type": "code",
   "execution_count": null,
   "metadata": {},
   "outputs": [],
   "source": [
    "# Our first \"analytics\" experiment would be count the number of characters\n",
    "# in our variable. The len() function returns the size of an object.\n",
    "\n",
    "len(title)"
   ]
  },
  {
   "cell_type": "code",
   "execution_count": null,
   "metadata": {},
   "outputs": [],
   "source": [
    "# In _Think Python_, we also learned about iteration. This is a for \n",
    "# loop that iterates through each element (character) in the string, \n",
    "# including the space.\n",
    "\n",
    "for character in title:\n",
    "    print(character)\n",
    "    \n",
    "# Note that we choose what we want to call the iterator in the for loop. If we are iterating through\n",
    "# numbers, by convention we typically use \"i\" for this variable. Here we are using \"character\" to make\n",
    "# our programming/script a little more legible or \"literate.\"\n",
    "#\n",
    "# Indentation is important in Python. The second line will be executed on each iteration of the loop\n",
    "# because it has been indented one level (tabs or spaces)."
   ]
  },
  {
   "cell_type": "code",
   "execution_count": null,
   "metadata": {},
   "outputs": [],
   "source": [
    "# Let's use some String methods. This method displays the value of our \n",
    "# string variable in lowercase.\n",
    "\n",
    "# NOTE: this does not alter the string. Strings are immutable, meaning\n",
    "# we can replace (by assigning a new value) but not *modify* a string.\n",
    "\n",
    "title.lower()"
   ]
  },
  {
   "cell_type": "code",
   "execution_count": null,
   "metadata": {},
   "outputs": [],
   "source": [
    "# See?\n",
    "print(title)"
   ]
  },
  {
   "cell_type": "code",
   "execution_count": null,
   "metadata": {},
   "outputs": [],
   "source": [
    "# Counting and comparing words *usually* will take place with lowercase\n",
    "# characters. Here is an example of a long string:\n",
    "\n",
    "sentence = \"\"\"To care for poetry in this way does not make one a poet, but it \n",
    "does make one feel blessedly rich, and quite indifferent to many things which \n",
    "are usually looked upon as desirable possessions\"\"\""
   ]
  },
  {
   "cell_type": "code",
   "execution_count": null,
   "metadata": {},
   "outputs": [],
   "source": [
    "# Let's use another method to count the number of times the substring \"one\"\n",
    "# appears in this string:\n",
    "sentence.count(\"one\")"
   ]
  },
  {
   "cell_type": "code",
   "execution_count": null,
   "metadata": {},
   "outputs": [],
   "source": [
    "# If we want to count the number of times \"to\" appears:\n",
    "sentence.count(\"to\")"
   ]
  },
  {
   "cell_type": "code",
   "execution_count": null,
   "metadata": {},
   "outputs": [],
   "source": [
    "# To solve that problem, we can create a new variable to store the \n",
    "# value of the lowercase sentence:\n",
    "sentence_lowercase = sentence.lower()\n",
    "\n",
    "# and then check:\n",
    "sentence_lowercase.count(\"to\")"
   ]
  },
  {
   "cell_type": "code",
   "execution_count": null,
   "metadata": {},
   "outputs": [],
   "source": [
    "# Or we can stack up our methods and operate on the original string:\n",
    "sentence.lower().count(\"to\")"
   ]
  },
  {
   "cell_type": "markdown",
   "metadata": {},
   "source": [
    "# Exploring Datatypes: Lists \n"
   ]
  },
  {
   "cell_type": "code",
   "execution_count": null,
   "metadata": {},
   "outputs": [],
   "source": [
    "# Lists store values. They can combine different datatypes. They can even contain other lists.\n",
    "# Lists can be created easily enough and modified easily.\n",
    "\n",
    "# Here is a simple list of numbers\n",
    "example_list = [1,2,3,4,5]\n",
    "\n",
    "# You can also do that with range()\n",
    "example_list = list(range(1,6))\n",
    "\n",
    "example_list"
   ]
  },
  {
   "cell_type": "code",
   "execution_count": null,
   "metadata": {},
   "outputs": [],
   "source": [
    "# But what about strings?\n",
    "example_list = [\"one\",\"two\",\"three\",\"four\",\"five\",\"six\"]"
   ]
  },
  {
   "cell_type": "code",
   "execution_count": null,
   "metadata": {},
   "outputs": [],
   "source": [
    "# display the first item in our list\n",
    "example_list[0]"
   ]
  },
  {
   "cell_type": "code",
   "execution_count": null,
   "metadata": {},
   "outputs": [],
   "source": [
    "# Add another word to the list with the append method:"
   ]
  },
  {
   "cell_type": "code",
   "execution_count": null,
   "metadata": {},
   "outputs": [],
   "source": [
    "# Display the result:\n",
    "example_list"
   ]
  },
  {
   "cell_type": "code",
   "execution_count": null,
   "metadata": {},
   "outputs": [],
   "source": [
    "# Iteration is simple, but list comprehension--that's cool!\n",
    "[w.upper() for w in example_list]"
   ]
  },
  {
   "cell_type": "code",
   "execution_count": null,
   "metadata": {},
   "outputs": [],
   "source": [
    "# This did not actually modify the list. You could overwrite the \n",
    "# entire list with variable assignment or modify item by item.\n",
    "\n",
    "for i, w in enumerate([w.upper() for w in example_list]):\n",
    "    example_list[i] = w\n",
    "\n",
    "# enumerate() gives us both a list and the indices for that list--it's really handy."
   ]
  },
  {
   "cell_type": "code",
   "execution_count": null,
   "metadata": {},
   "outputs": [],
   "source": [
    "example_list"
   ]
  },
  {
   "cell_type": "markdown",
   "metadata": {},
   "source": [
    "# Exploring Datatypes: Dictionaries \n"
   ]
  },
  {
   "cell_type": "code",
   "execution_count": null,
   "metadata": {},
   "outputs": [],
   "source": [
    "# Dictionaries are key-value pairs. Keys must be unique. \n",
    "# In order to create a dictionary, you must initiate an empty dictionary. You can do so with one \n",
    "# of the following methods:\n",
    "\n",
    "# example_dict = {}\n",
    "example_dict = dict()\n",
    "\n",
    "# Once you've created the dictionary, you can add values and change values:\n",
    "example_dict['phone'] = '62316'\n",
    "\n",
    "# display dictionary\n",
    "print(example_dict)"
   ]
  },
  {
   "cell_type": "code",
   "execution_count": null,
   "metadata": {},
   "outputs": [],
   "source": [
    "# Now we can modify the values:\n",
    "example_dict['address'] = '7A Sanborn'\n",
    "example_dict['phone'] = '68612'\n",
    "print(example_dict)"
   ]
  },
  {
   "cell_type": "code",
   "execution_count": null,
   "metadata": {},
   "outputs": [],
   "source": [
    "# To process the dictionary, you can iterate through by both key and value at the same time\n",
    "for k,v in example_dict.items():\n",
    "    print(k,':',v)"
   ]
  },
  {
   "cell_type": "code",
   "execution_count": null,
   "metadata": {},
   "outputs": [],
   "source": [
    "# Or just by keys:\n",
    "for key in example_dict:\n",
    "    print(key)"
   ]
  },
  {
   "cell_type": "code",
   "execution_count": null,
   "metadata": {},
   "outputs": [],
   "source": [
    "# To display value you need to address the dictionary as such:\n",
    "for key in example_dict:\n",
    "    print(key,':',example_dict[key])"
   ]
  },
  {
   "cell_type": "markdown",
   "metadata": {},
   "source": [
    "# Measuring Data Derived from Text\n",
    "\n",
    "The following cells are going to help us begin to understand how we can convert regular text into measurable data. We'll quickly develop the skills needed to produce some basic statistics about a section of text. Note that what counts as a \"section\" of text will begin to become more important. How do we define these segments? What is a good measure? Sentences, paragraphs, pages, standardized units of words?\n",
    "\n",
    "These problems will remain with us throughout the term. Because we will be mostly studying books and books have these formal features (included pages), features that frequently contain much meaning but are quickly lost. Transforming text into data produces an alternate representation of the text and some of the information found in the text."
   ]
  },
  {
   "cell_type": "code",
   "execution_count": null,
   "metadata": {},
   "outputs": [],
   "source": [
    "# Like the for loop above, we can iterate through sequences of the\n",
    "# result of a method called split(). The split method is going to\n",
    "# be *very important* for text analysis. \n",
    "#\n",
    "# Please note that there are some language-specific assumptions \n",
    "# at work when we split a sentence in words in this way.\n",
    "#\n",
    "# Working character by character is fine for some stuff, but we \n",
    "# really care about words, not characters.\n",
    "#\n",
    "# The default way in which split() works is to split on the delimiter\n",
    "# of a space--ideal for splitting a sentence. We'll worry more about \n",
    "# what is returned by split() later, but this gets us started with\n",
    "# working on words.\n",
    "\n",
    "for word in sentence.split():\n",
    "    print(word)"
   ]
  },
  {
   "cell_type": "code",
   "execution_count": null,
   "metadata": {},
   "outputs": [],
   "source": [
    "# We can now make a simple wordcount utility by combining a few of these functions. \n",
    "# But in asking how many words are in this sentences, we should inquire into what\n",
    "# we are considering words.\n",
    "# \n",
    "# Did you notice anything strange above? Did it cause any problems for this query?\n",
    "print(len(sentence.split()))"
   ]
  },
  {
   "cell_type": "code",
   "execution_count": null,
   "metadata": {},
   "outputs": [],
   "source": [
    "# Now let's work with something more complicated. This is the first section of Fitzgerald's\n",
    "# The Great Gatsby\n",
    "\n",
    "text=\"\"\"In my younger and more vulnerable years my father gave me some advice that I’ve been turning over in my \n",
    "mind ever since. “Whenever you feel like criticizing anyone,” he told me, “just remember that all the people \n",
    "in this world haven’t had the advantages that you’ve had.” He didn’t say any more, but we’ve always been \n",
    "unusually communicative in a reserved way, and I understood that he meant a great deal more than that. In \n",
    "consequence, I’m inclined to reserve all judgements, a habit that has opened up many curious natures to me and \n",
    "also made me the victim of not a few veteran bores. The abnormal mind is quick to detect and attach itself to \n",
    "this quality when it appears in a normal person, and so it came about that in college I was unjustly accused of \n",
    "being a politician, because I was privy to the secret griefs of wild, unknown men. Most of the confidences were \n",
    "unsought -- frequently I have feigned sleep, preoccupation, or a hostile levity when I realized by some unmistakable \n",
    "sign that an intimate revelation was quivering on the horizon; for the intimate revelations of young men, or at \n",
    "least the terms in which they express them, are usually plagiaristic and marred by obvious suppressions. Reserving judgements is a matter of infinite hope. I am still a little afraid of missing something if I forget \n",
    "that, as my father snobbishly suggested, and I snobbishly repeat, a sense of the fundamental decencies is \n",
    "parcelled out unequally at birth. And, after boasting this way of my tolerance, I come to the admission that \n",
    "it has a limit. Conduct may be founded on the hard rock or the wet marshes, but after a certain point I don’t \n",
    "care what it’s founded on. When I came back from the East last autumn I felt that I wanted the world to be in \n",
    "uniform and at a sort of moral attention forever; I wanted no more riotous excursions with privileged glimpses \n",
    "into the human heart. Only Gatsby, the man who gives his name to this book, was exempt from my reaction -- Gatsby, \n",
    "who represented everything for which I have an unaffected scorn. If personality is an unbroken series of \n",
    "successful gestures, then there was something gorgeous about him, some heightened sensitivity to the promises of \n",
    "life, as if he were related to one of those intricate machines that register earthquakes ten thousand miles away. \n",
    "This responsiveness had nothing to do with that flabby impressionability which is dignified under the name of \n",
    "the “creative temperament” -- it was an extraordinary gift for hope, a romantic readiness such as I have never \n",
    "found in any other person and which it is not likely I shall ever find again. No -- Gatsby turned out all right\n",
    "at the end; it is what preyed on Gatsby, what foul dust floated in the wake of his dreams that temporarily \n",
    "closed out my interest in the abortive sorrows and short-winded elations of men.\"\"\""
   ]
  },
  {
   "cell_type": "code",
   "execution_count": null,
   "metadata": {
    "scrolled": true
   },
   "outputs": [],
   "source": [
    "# Let's generate some basic data from this very long string\n",
    "print(\"Total characters:\",len(text))\n",
    "print(\"Total word count:\",len(text.split()))\n",
    "print(\"Paragraph count:\",text.count(\"\\n\"))\n",
    "print(\"Rough sentence count:\",text.count(\".\"))"
   ]
  },
  {
   "cell_type": "code",
   "execution_count": null,
   "metadata": {},
   "outputs": [],
   "source": [
    "# We now know how to process each word. Let's find long words.\n",
    "# What is a long word?\n",
    "long_word = 10\n",
    "for word in text.split():\n",
    "\n",
    "    # This is our first *conditional statement* \n",
    "    # We are evaluating an expression. What is left\n",
    "    # unsaid is that we are testing or evaluating the\n",
    "    # expression and if it is true, then we will execute\n",
    "    # additional code.\n",
    "    # \n",
    "    # We know that are still in the conditional statement \n",
    "    # (with the condition) being true, because of the indent. \n",
    "    # The second line, the indented line, will be executed if \n",
    "    # the statement is true. Otherwise, nothing happens. We \n",
    "    # use \"else\" to handle those cases in which the statement \n",
    "    # is false.\n",
    "    \n",
    "    if len(word) >= 10:\n",
    "        print(word)"
   ]
  },
  {
   "cell_type": "markdown",
   "metadata": {},
   "source": [
    "# Problem: Counting Complexity\n",
    "\n",
    "How might you determine the difficulty level (in terms of reading comprehension) of this section of text? What criteria might you use to quantify \"difficulty?\" One method, might be by counting the percentage of long words. Return the percentage of long words in this passage."
   ]
  },
  {
   "cell_type": "code",
   "execution_count": null,
   "metadata": {},
   "outputs": [],
   "source": []
  },
  {
   "cell_type": "markdown",
   "metadata": {},
   "source": [
    "# Problem: Make a list of word frequencies \n",
    "\n",
    "In the cell below, write a loop that will produce a dictionary of word frequencies for all the words in the following passage of Jane Austen's _Pride and Prejudice_\n",
    "\n",
    "Mr. Bingley was good looking and gentleman-like; he had a pleasant countenance, and easy, unaffected manners. His sisters were fine women, with an air of decided fashion. His brother-in-law, Mr. Hurst, merely looked the gentleman; but his friend Mr. Darcy soon drew the attention of the room by his fine, tall person, handsome features, noble mien; and the report which was in general circulation within five minutes after his entrance, of his having ten thousand a year. The gentlemen pronounced him to be a fine figure of a man, the ladies declared he was much handsomer than Mr. Bingley, and he was looked at with great admiration for about half the evening, till his manners gave a disgust which turned the tide of his popularity; for he was discovered to be proud, to be above his company, and above being pleased; and not all his large estate in Derbyshire could then save him from having a most forbidding, disagreeable countenance, and being unworthy to be compared with his friend."
   ]
  },
  {
   "cell_type": "code",
   "execution_count": null,
   "metadata": {},
   "outputs": [],
   "source": []
  }
 ],
 "metadata": {
  "kernelspec": {
   "display_name": "Python 3 (ipykernel)",
   "language": "python",
   "name": "python3"
  },
  "language_info": {
   "codemirror_mode": {
    "name": "ipython",
    "version": 3
   },
   "file_extension": ".py",
   "mimetype": "text/x-python",
   "name": "python",
   "nbconvert_exporter": "python",
   "pygments_lexer": "ipython3",
   "version": "3.10.6"
  }
 },
 "nbformat": 4,
 "nbformat_minor": 2
}
