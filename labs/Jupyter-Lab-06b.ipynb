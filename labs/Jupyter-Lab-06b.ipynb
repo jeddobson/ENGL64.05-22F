{
 "cells": [
  {
   "cell_type": "markdown",
   "metadata": {},
   "source": [
    "<center>\n",
    "<h1>Cultural Analytics</h1><br>\n",
    "<h2>ENGL64.05 / QSS 30.16 Fall 2022</h2>\n",
    "</center>\n",
    "\n",
    "----\n",
    "\n",
    "# Lab 6b\n",
    "## word2vec: modeling plain-text collections\n",
    "\n",
    " <center><pre>Created: 11/07/2022</pre></center>"
   ]
  },
  {
   "cell_type": "code",
   "execution_count": null,
   "metadata": {},
   "outputs": [],
   "source": [
    "import gensim\n",
    "from gensim.models import Word2Vec\n",
    "from gensim.models import KeyedVectors\n",
    "\n",
    "import numpy as np\n",
    "\n",
    "import nltk\n",
    "from glob import glob"
   ]
  },
  {
   "cell_type": "code",
   "execution_count": null,
   "metadata": {},
   "outputs": [],
   "source": [
    "collection = glob(\"shared/ENGL64.05-22F/data/na-slave-narratives/data/texts/*.txt\")\n",
    "print(\"found {} texts in collection\".format(len(collection)))"
   ]
  },
  {
   "cell_type": "code",
   "execution_count": null,
   "metadata": {},
   "outputs": [],
   "source": [
    "# produce list of list of tokens\n",
    "sentences = list()\n",
    "for doc in collection:\n",
    "    text = open(doc).read()\n",
    "    \n",
    "    # you might want to do some preprocess of the data\n",
    "    tokens = nltk.word_tokenize(text)\n",
    "    sentences.append(tokens)"
   ]
  },
  {
   "cell_type": "code",
   "execution_count": null,
   "metadata": {},
   "outputs": [],
   "source": [
    "print(\"creating model\")\n",
    "model = Word2Vec(sentences = sentences, \n",
    "                vector_size =300, # larger vector size might produce better results\n",
    "                min_count = 2, # drop words with very few repetitions\n",
    "                window = 10, \n",
    "                workers = 2)"
   ]
  },
  {
   "cell_type": "code",
   "execution_count": null,
   "metadata": {},
   "outputs": [],
   "source": [
    "# \"Interview\" the model\n",
    "dim = model.wv.vector_size\n",
    "vocab_size = len(model.wv.index_to_key)\n",
    "print(\"vocab:\", vocab_size)\n",
    "print(\"depth:\", dim)"
   ]
  },
  {
   "cell_type": "code",
   "execution_count": null,
   "metadata": {},
   "outputs": [],
   "source": [
    "# Run some sample queries\n",
    "model.wv.most_similar(\"church\")"
   ]
  },
  {
   "cell_type": "code",
   "execution_count": null,
   "metadata": {},
   "outputs": [],
   "source": [
    "model.wv.most_similar(\"president\")"
   ]
  },
  {
   "cell_type": "code",
   "execution_count": null,
   "metadata": {},
   "outputs": [],
   "source": [
    "# save model\n",
    "# to load this model, you can use model = KeyedVectors.load(\"vectors.vec\")\n",
    "model.wv.save(\"vectors.vec\")"
   ]
  }
 ],
 "metadata": {
  "kernelspec": {
   "display_name": "Python 3 (ipykernel)",
   "language": "python",
   "name": "python3"
  },
  "language_info": {
   "codemirror_mode": {
    "name": "ipython",
    "version": 3
   },
   "file_extension": ".py",
   "mimetype": "text/x-python",
   "name": "python",
   "nbconvert_exporter": "python",
   "pygments_lexer": "ipython3",
   "version": "3.10.6"
  }
 },
 "nbformat": 4,
 "nbformat_minor": 4
}
